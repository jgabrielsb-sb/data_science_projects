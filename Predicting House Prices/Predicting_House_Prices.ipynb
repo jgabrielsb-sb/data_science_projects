{
 "cells": [
  {
   "cell_type": "code",
   "execution_count": 131,
   "metadata": {},
   "outputs": [],
   "source": [
    "import numpy as np\n",
    "import pandas as pd \n",
    "import matplotlib.pyplot as plt\n",
    "import seaborn as sns \n",
    "import scipy.stats as stats\n",
    "import pylab\n",
    "from sklearn.neighbors import KNeighborsRegressor\n",
    "from sklearn.preprocessing import StandardScaler\n",
    "from pycaret.regression  import setup, compare_models\n",
    "from sklearn.ensemble import GradientBoostingRegressor, GradientBoostingClassifier, RandomForestRegressor\n",
    "from sklearn.linear_model import BayesianRidge, OrthogonalMatchingPursuit, Ridge \n",
    "from sklearn.model_selection import KFold, cross_val_score\n",
    "from lightgbm import LGBMClassifier\n",
    "sns.set_style('darkgrid')\n",
    "\n",
    "pd.set_option('display.max_columns', None)\n",
    "pd.set_option('display.max_rows', None)"
   ]
  },
  {
   "cell_type": "code",
   "execution_count": 132,
   "metadata": {},
   "outputs": [],
   "source": [
    "def make_submission(prediction):\n",
    "    submission = pd.DataFrame()\n",
    "    submission['Id'] = np.arange(1461, 2920)\n",
    "    submission['SalePrice'] = np.exp(prediction)\n",
    "\n",
    "    return submission"
   ]
  },
  {
   "attachments": {},
   "cell_type": "markdown",
   "metadata": {},
   "source": [
    "### Predicting House Prices  (12/08/2023) ###"
   ]
  },
  {
   "cell_type": "markdown",
   "metadata": {},
   "source": [
    "Kaggle Competition: https://www.kaggle.com/competitions/house-prices-advanced-regression-techniques/overview\n",
    "\n",
    "This notebook was created with the help of the video: https://www.youtube.com/watch?v=zwYHloLXH0c"
   ]
  },
  {
   "cell_type": "code",
   "execution_count": 133,
   "metadata": {},
   "outputs": [
    {
     "name": "stdout",
     "output_type": "stream",
     "text": [
      "all data shape: (2919, 81)\n"
     ]
    }
   ],
   "source": [
    "train = pd.read_csv(\"train.csv\")\n",
    "test = pd.read_csv(\"test.csv\")\n",
    "\n",
    "#creating a train_set column to split datasets later\n",
    "train['train_set'] = 1\n",
    "test['train_set'] = 0\n",
    "\n",
    "#getting target column SalePrice and removing it from train dataset\n",
    "target = train['SalePrice']\n",
    "train = train.drop(columns=['SalePrice'])\n",
    "\n",
    "#concatenate train and test dataset to improve analysis\n",
    "all_data = pd.concat([train, test], ignore_index=True)\n",
    "print(\"all data shape: {}\".format(all_data.shape))"
   ]
  },
  {
   "cell_type": "markdown",
   "metadata": {},
   "source": [
    "#### 1. Cleaning Data ####"
   ]
  },
  {
   "cell_type": "code",
   "execution_count": 134,
   "metadata": {},
   "outputs": [],
   "source": [
    "data1 = all_data.copy()\n",
    "categorical_columns = data1.select_dtypes(include=['object']).columns\n",
    "numerical_columns = data1.select_dtypes(np.number).columns"
   ]
  },
  {
   "cell_type": "code",
   "execution_count": 135,
   "metadata": {},
   "outputs": [],
   "source": [
    "#fill null values for categorical columns:\n",
    "\n",
    "#categorical columns with null values\n",
    "null_categorical = data1[categorical_columns].loc[:, data1[categorical_columns].isna().sum() > 0].columns\n",
    "\n",
    "#some columns have meaning in Null values, such as PoolQC: null values = no pool\n",
    "meaning_null_categorical = ['Alley', 'BsmtQual', 'BsmtCond', 'BsmtExposure', 'BsmtFinType1', 'BsmtFinType2','FireplaceQu', 'GarageType',\n",
    "                            'GarageFinish', 'PoolQC', 'Fence', 'MiscFeature']\n",
    "\n",
    "for column in null_categorical:\n",
    "    if column in meaning_null_categorical:  #If column null values has a meaning, Then fill with 'None'\n",
    "        data1[column] = data1[column].fillna('None')\n",
    "    else:  #otherwise fill with mode \n",
    "        data1[column] = data1[column].fillna(data1[column].mode()[0])\n"
   ]
  },
  {
   "cell_type": "code",
   "execution_count": 136,
   "metadata": {},
   "outputs": [],
   "source": [
    "data2 = data1.copy()\n",
    "\n",
    "#fill numerical columns with null values: we will do it using KNN\n",
    "null_numerical = data2[numerical_columns].loc[:, data2[numerical_columns].isna().sum() > 0].columns\n",
    "not_null_numerical = list(set(numerical_columns) - set(null_numerical))\n",
    "\n",
    "#train_KNN = data2[not_null_numerical]\n",
    "\n",
    "\n",
    "for column in null_numerical:\n",
    "    Y_train = data2[numerical_columns].loc[data2[column].isna() == False,column]\n",
    "    X_train = data2[numerical_columns].loc[data2[column].isna() == False, not_null_numerical]\n",
    "    X_predict = data2[numerical_columns].loc[data2[column].isna() == True, not_null_numerical]\n",
    "\n",
    "    KNN_model = KNeighborsRegressor()\n",
    "    KNN_model.fit(X_train, Y_train)\n",
    "\n",
    "    Y_predict = KNN_model.predict(X_predict)\n",
    "    data2.loc[data2[column].isna() == True, column] = Y_predict"
   ]
  },
  {
   "cell_type": "markdown",
   "metadata": {},
   "source": [
    "#### 2. Feature Transformation  ####"
   ]
  },
  {
   "cell_type": "code",
   "execution_count": 137,
   "metadata": {},
   "outputs": [
    {
     "data": {
      "text/html": [
       "<div>\n",
       "<style scoped>\n",
       "    .dataframe tbody tr th:only-of-type {\n",
       "        vertical-align: middle;\n",
       "    }\n",
       "\n",
       "    .dataframe tbody tr th {\n",
       "        vertical-align: top;\n",
       "    }\n",
       "\n",
       "    .dataframe thead th {\n",
       "        text-align: right;\n",
       "    }\n",
       "</style>\n",
       "<table border=\"1\" class=\"dataframe\">\n",
       "  <thead>\n",
       "    <tr style=\"text-align: right;\">\n",
       "      <th></th>\n",
       "      <th>Skew Before Transformation</th>\n",
       "      <th>Skew After Log Transformastion</th>\n",
       "      <th>Skew after Sqrt Transformation</th>\n",
       "      <th>Skew after Tranformation</th>\n",
       "    </tr>\n",
       "  </thead>\n",
       "  <tbody>\n",
       "    <tr>\n",
       "      <th>Id</th>\n",
       "      <td>0.000000</td>\n",
       "      <td>0.000000</td>\n",
       "      <td>0.000000</td>\n",
       "      <td>0.000000</td>\n",
       "    </tr>\n",
       "    <tr>\n",
       "      <th>MSSubClass</th>\n",
       "      <td>1.375457</td>\n",
       "      <td>0.245157</td>\n",
       "      <td>0.744696</td>\n",
       "      <td>0.245157</td>\n",
       "    </tr>\n",
       "    <tr>\n",
       "      <th>LotFrontage</th>\n",
       "      <td>1.347524</td>\n",
       "      <td>0.938488</td>\n",
       "      <td>0.006240</td>\n",
       "      <td>0.006240</td>\n",
       "    </tr>\n",
       "    <tr>\n",
       "      <th>LotArea</th>\n",
       "      <td>12.822431</td>\n",
       "      <td>0.504751</td>\n",
       "      <td>3.081847</td>\n",
       "      <td>0.504751</td>\n",
       "    </tr>\n",
       "    <tr>\n",
       "      <th>OverallQual</th>\n",
       "      <td>0.197110</td>\n",
       "      <td>0.197110</td>\n",
       "      <td>0.197110</td>\n",
       "      <td>0.197110</td>\n",
       "    </tr>\n",
       "  </tbody>\n",
       "</table>\n",
       "</div>"
      ],
      "text/plain": [
       "             Skew Before Transformation  Skew After Log Transformastion  \\\n",
       "Id                             0.000000                        0.000000   \n",
       "MSSubClass                     1.375457                        0.245157   \n",
       "LotFrontage                    1.347524                        0.938488   \n",
       "LotArea                       12.822431                        0.504751   \n",
       "OverallQual                    0.197110                        0.197110   \n",
       "\n",
       "             Skew after Sqrt Transformation  Skew after Tranformation  \n",
       "Id                                 0.000000                  0.000000  \n",
       "MSSubClass                         0.744696                  0.245157  \n",
       "LotFrontage                        0.006240                  0.006240  \n",
       "LotArea                            3.081847                  0.504751  \n",
       "OverallQual                        0.197110                  0.197110  "
      ]
     },
     "execution_count": 137,
     "metadata": {},
     "output_type": "execute_result"
    }
   ],
   "source": [
    "data3 = data2.copy()\n",
    "\n",
    "#seeing if numerical features are skewed (if |stats| > 0.5)\n",
    "columns_skew = pd.DataFrame(index=data3[numerical_columns].columns)\n",
    "columns_skew['Skew Before Transformation'] = abs(stats.skew(data3[numerical_columns]))\n",
    "skewed_features = columns_skew.loc[columns_skew['Skew Before Transformation'] > 0.5, :].index\n",
    "\n",
    "log_data = data3.copy()\n",
    "sqrt_data = data3.copy()\n",
    "\n",
    "for feature in skewed_features:\n",
    "    log_data[feature] = np.log1p(data3[feature])\n",
    "    sqrt_data[feature] = np.sqrt(data3[feature])\n",
    "\n",
    "    if ( abs(stats.skew(log_data[feature])) <= abs(stats.skew(sqrt_data[feature]))  ):\n",
    "        data3[feature] = log_data[feature]\n",
    "    else:\n",
    "        data3[feature] = sqrt_data[feature]\n",
    "\n",
    "columns_skew['Skew After Log Transformastion'] = abs(stats.skew(log_data[numerical_columns]))\n",
    "columns_skew['Skew after Sqrt Transformation'] = abs(stats.skew(sqrt_data[numerical_columns]))\n",
    "columns_skew['Skew after Tranformation'] = abs(stats.skew(data3[numerical_columns]))\n",
    "columns_skew.head()"
   ]
  },
  {
   "cell_type": "code",
   "execution_count": 138,
   "metadata": {},
   "outputs": [],
   "source": [
    "#applying cos feature transformation to cyclical columns: MoSold\n",
    "data3['MoSold'] = np.cos(0.5236 * data3['MoSold'])\n",
    "\n",
    "#Getting categorical features dummies\n",
    "data3 = pd.get_dummies(data3)\n",
    "\n",
    "#scalling features\n",
    "scaler = StandardScaler()\n",
    "scaler.fit(data3)\n",
    "\n",
    "\n",
    "data3 = pd.DataFrame(scaler.transform(data3), columns=data3.columns, index=data3.index)"
   ]
  },
  {
   "cell_type": "code",
   "execution_count": 139,
   "metadata": {},
   "outputs": [
    {
     "data": {
      "image/png": "[encoded data removed]",
      "text/plain": [
       "<Figure size 2000x1000 with 2 Axes>"
      ]
     },
     "metadata": {},
     "output_type": "display_data"
    },
    {
     "name": "stdout",
     "output_type": "stream",
     "text": [
      "skew stats: 1.880940746034036\n",
      "skew stats with log transformation: 0.12122191311528363\n"
     ]
    }
   ],
   "source": [
    "#target transformation\n",
    "plt.figure(figsize=(20,10))\n",
    "\n",
    "plt.subplot(1,2,1)\n",
    "sns.distplot(target, kde =True, fit=stats.norm)\n",
    "plt.title(\"Target SalePrice Histogram without transformation\")\n",
    "\n",
    "plt.subplot(1,2,2)\n",
    "sns.distplot(np.log(target), kde=True, fit=stats.norm)\n",
    "plt.title(\"Target SalePrice Histogram with Log transformation\")\n",
    "\n",
    "plt.show()\n",
    "\n",
    "print(\"skew stats: {}\".format(stats.skew(target))) #1.88\n",
    "print(\"skew stats with log transformation: {}\".format(stats.skew(np.log1p(target)))) #0.12 -> better one\n",
    "\n",
    "log_target = np.log(target)"
   ]
  },
  {
   "cell_type": "markdown",
   "metadata": {},
   "source": [
    "#### 3. Model Selection  ####"
   ]
  },
  {
   "cell_type": "code",
   "execution_count": 140,
   "metadata": {},
   "outputs": [],
   "source": [
    "#split data \n",
    "train_data1 = data3[data3['train_set'] > 0] #We should't normalize train_set. It was a mistake and caused this > 0 and < 0 filter\n",
    "test_data1 = data3[data3['train_set'] < 0]\n"
   ]
  },
  {
   "cell_type": "code",
   "execution_count": 141,
   "metadata": {},
   "outputs": [
    {
     "data": {
      "text/html": [
       "<style type=\"text/css\">\n",
       "#T_80314_row8_col1 {\n",
       "  background-color: lightgreen;\n",
       "}\n",
       "</style>\n",
       "<table id=\"T_80314\">\n",
       "  <thead>\n",
       "    <tr>\n",
       "      <th class=\"blank level0\" >&nbsp;</th>\n",
       "      <th id=\"T_80314_level0_col0\" class=\"col_heading level0 col0\" >Description</th>\n",
       "      <th id=\"T_80314_level0_col1\" class=\"col_heading level0 col1\" >Value</th>\n",
       "    </tr>\n",
       "  </thead>\n",
       "  <tbody>\n",
       "    <tr>\n",
       "      <th id=\"T_80314_level0_row0\" class=\"row_heading level0 row0\" >0</th>\n",
       "      <td id=\"T_80314_row0_col0\" class=\"data row0 col0\" >Session id</td>\n",
       "      <td id=\"T_80314_row0_col1\" class=\"data row0 col1\" >2987</td>\n",
       "    </tr>\n",
       "    <tr>\n",
       "      <th id=\"T_80314_level0_row1\" class=\"row_heading level0 row1\" >1</th>\n",
       "      <td id=\"T_80314_row1_col0\" class=\"data row1 col0\" >Target</td>\n",
       "      <td id=\"T_80314_row1_col1\" class=\"data row1 col1\" >SalePrice</td>\n",
       "    </tr>\n",
       "    <tr>\n",
       "      <th id=\"T_80314_level0_row2\" class=\"row_heading level0 row2\" >2</th>\n",
       "      <td id=\"T_80314_row2_col0\" class=\"data row2 col0\" >Target type</td>\n",
       "      <td id=\"T_80314_row2_col1\" class=\"data row2 col1\" >Regression</td>\n",
       "    </tr>\n",
       "    <tr>\n",
       "      <th id=\"T_80314_level0_row3\" class=\"row_heading level0 row3\" >3</th>\n",
       "      <td id=\"T_80314_row3_col0\" class=\"data row3 col0\" >Original data shape</td>\n",
       "      <td id=\"T_80314_row3_col1\" class=\"data row3 col1\" >(1460, 303)</td>\n",
       "    </tr>\n",
       "    <tr>\n",
       "      <th id=\"T_80314_level0_row4\" class=\"row_heading level0 row4\" >4</th>\n",
       "      <td id=\"T_80314_row4_col0\" class=\"data row4 col0\" >Transformed data shape</td>\n",
       "      <td id=\"T_80314_row4_col1\" class=\"data row4 col1\" >(1460, 303)</td>\n",
       "    </tr>\n",
       "    <tr>\n",
       "      <th id=\"T_80314_level0_row5\" class=\"row_heading level0 row5\" >5</th>\n",
       "      <td id=\"T_80314_row5_col0\" class=\"data row5 col0\" >Transformed train set shape</td>\n",
       "      <td id=\"T_80314_row5_col1\" class=\"data row5 col1\" >(1021, 303)</td>\n",
       "    </tr>\n",
       "    <tr>\n",
       "      <th id=\"T_80314_level0_row6\" class=\"row_heading level0 row6\" >6</th>\n",
       "      <td id=\"T_80314_row6_col0\" class=\"data row6 col0\" >Transformed test set shape</td>\n",
       "      <td id=\"T_80314_row6_col1\" class=\"data row6 col1\" >(439, 303)</td>\n",
       "    </tr>\n",
       "    <tr>\n",
       "      <th id=\"T_80314_level0_row7\" class=\"row_heading level0 row7\" >7</th>\n",
       "      <td id=\"T_80314_row7_col0\" class=\"data row7 col0\" >Numeric features</td>\n",
       "      <td id=\"T_80314_row7_col1\" class=\"data row7 col1\" >302</td>\n",
       "    </tr>\n",
       "    <tr>\n",
       "      <th id=\"T_80314_level0_row8\" class=\"row_heading level0 row8\" >8</th>\n",
       "      <td id=\"T_80314_row8_col0\" class=\"data row8 col0\" >Preprocess</td>\n",
       "      <td id=\"T_80314_row8_col1\" class=\"data row8 col1\" >True</td>\n",
       "    </tr>\n",
       "    <tr>\n",
       "      <th id=\"T_80314_level0_row9\" class=\"row_heading level0 row9\" >9</th>\n",
       "      <td id=\"T_80314_row9_col0\" class=\"data row9 col0\" >Imputation type</td>\n",
       "      <td id=\"T_80314_row9_col1\" class=\"data row9 col1\" >simple</td>\n",
       "    </tr>\n",
       "    <tr>\n",
       "      <th id=\"T_80314_level0_row10\" class=\"row_heading level0 row10\" >10</th>\n",
       "      <td id=\"T_80314_row10_col0\" class=\"data row10 col0\" >Numeric imputation</td>\n",
       "      <td id=\"T_80314_row10_col1\" class=\"data row10 col1\" >mean</td>\n",
       "    </tr>\n",
       "    <tr>\n",
       "      <th id=\"T_80314_level0_row11\" class=\"row_heading level0 row11\" >11</th>\n",
       "      <td id=\"T_80314_row11_col0\" class=\"data row11 col0\" >Categorical imputation</td>\n",
       "      <td id=\"T_80314_row11_col1\" class=\"data row11 col1\" >mode</td>\n",
       "    </tr>\n",
       "    <tr>\n",
       "      <th id=\"T_80314_level0_row12\" class=\"row_heading level0 row12\" >12</th>\n",
       "      <td id=\"T_80314_row12_col0\" class=\"data row12 col0\" >Fold Generator</td>\n",
       "      <td id=\"T_80314_row12_col1\" class=\"data row12 col1\" >KFold</td>\n",
       "    </tr>\n",
       "    <tr>\n",
       "      <th id=\"T_80314_level0_row13\" class=\"row_heading level0 row13\" >13</th>\n",
       "      <td id=\"T_80314_row13_col0\" class=\"data row13 col0\" >Fold Number</td>\n",
       "      <td id=\"T_80314_row13_col1\" class=\"data row13 col1\" >10</td>\n",
       "    </tr>\n",
       "    <tr>\n",
       "      <th id=\"T_80314_level0_row14\" class=\"row_heading level0 row14\" >14</th>\n",
       "      <td id=\"T_80314_row14_col0\" class=\"data row14 col0\" >CPU Jobs</td>\n",
       "      <td id=\"T_80314_row14_col1\" class=\"data row14 col1\" >-1</td>\n",
       "    </tr>\n",
       "    <tr>\n",
       "      <th id=\"T_80314_level0_row15\" class=\"row_heading level0 row15\" >15</th>\n",
       "      <td id=\"T_80314_row15_col0\" class=\"data row15 col0\" >Use GPU</td>\n",
       "      <td id=\"T_80314_row15_col1\" class=\"data row15 col1\" >False</td>\n",
       "    </tr>\n",
       "    <tr>\n",
       "      <th id=\"T_80314_level0_row16\" class=\"row_heading level0 row16\" >16</th>\n",
       "      <td id=\"T_80314_row16_col0\" class=\"data row16 col0\" >Log Experiment</td>\n",
       "      <td id=\"T_80314_row16_col1\" class=\"data row16 col1\" >False</td>\n",
       "    </tr>\n",
       "    <tr>\n",
       "      <th id=\"T_80314_level0_row17\" class=\"row_heading level0 row17\" >17</th>\n",
       "      <td id=\"T_80314_row17_col0\" class=\"data row17 col0\" >Experiment Name</td>\n",
       "      <td id=\"T_80314_row17_col1\" class=\"data row17 col1\" >reg-default-name</td>\n",
       "    </tr>\n",
       "    <tr>\n",
       "      <th id=\"T_80314_level0_row18\" class=\"row_heading level0 row18\" >18</th>\n",
       "      <td id=\"T_80314_row18_col0\" class=\"data row18 col0\" >USI</td>\n",
       "      <td id=\"T_80314_row18_col1\" class=\"data row18 col1\" >1ea5</td>\n",
       "    </tr>\n",
       "  </tbody>\n",
       "</table>\n"
      ],
      "text/plain": [
       "<pandas.io.formats.style.Styler at 0x2bf8cc28d60>"
      ]
     },
     "metadata": {},
     "output_type": "display_data"
    }
   ],
   "source": [
    "#using pycaret to see the best models that fit our data\n",
    "models_summary = setup(data=pd.concat([train_data1, log_target], axis=1), target='SalePrice')"
   ]
  },
  {
   "cell_type": "code",
   "execution_count": 142,
   "metadata": {},
   "outputs": [
    {
     "data": {
      "text/html": [],
      "text/plain": [
       "<IPython.core.display.HTML object>"
      ]
     },
     "metadata": {},
     "output_type": "display_data"
    },
    {
     "data": {
      "text/html": [
       "<style type=\"text/css\">\n",
       "#T_1edaf th {\n",
       "  text-align: left;\n",
       "}\n",
       "#T_1edaf_row0_col0, #T_1edaf_row0_col1, #T_1edaf_row0_col6, #T_1edaf_row1_col0, #T_1edaf_row1_col2, #T_1edaf_row1_col3, #T_1edaf_row1_col4, #T_1edaf_row1_col5, #T_1edaf_row2_col0, #T_1edaf_row2_col1, #T_1edaf_row2_col2, #T_1edaf_row2_col3, #T_1edaf_row2_col4, #T_1edaf_row2_col5, #T_1edaf_row2_col6, #T_1edaf_row3_col0, #T_1edaf_row3_col1, #T_1edaf_row3_col2, #T_1edaf_row3_col3, #T_1edaf_row3_col4, #T_1edaf_row3_col5, #T_1edaf_row3_col6, #T_1edaf_row4_col0, #T_1edaf_row4_col1, #T_1edaf_row4_col2, #T_1edaf_row4_col3, #T_1edaf_row4_col4, #T_1edaf_row4_col5, #T_1edaf_row4_col6, #T_1edaf_row5_col0, #T_1edaf_row5_col1, #T_1edaf_row5_col2, #T_1edaf_row5_col3, #T_1edaf_row5_col4, #T_1edaf_row5_col5, #T_1edaf_row5_col6, #T_1edaf_row6_col0, #T_1edaf_row6_col1, #T_1edaf_row6_col2, #T_1edaf_row6_col3, #T_1edaf_row6_col4, #T_1edaf_row6_col5, #T_1edaf_row6_col6, #T_1edaf_row7_col0, #T_1edaf_row7_col1, #T_1edaf_row7_col2, #T_1edaf_row7_col3, #T_1edaf_row7_col4, #T_1edaf_row7_col5, #T_1edaf_row7_col6, #T_1edaf_row8_col0, #T_1edaf_row8_col1, #T_1edaf_row8_col2, #T_1edaf_row8_col3, #T_1edaf_row8_col4, #T_1edaf_row8_col5, #T_1edaf_row8_col6, #T_1edaf_row9_col0, #T_1edaf_row9_col1, #T_1edaf_row9_col2, #T_1edaf_row9_col3, #T_1edaf_row9_col4, #T_1edaf_row9_col5, #T_1edaf_row9_col6, #T_1edaf_row10_col0, #T_1edaf_row10_col1, #T_1edaf_row10_col2, #T_1edaf_row10_col3, #T_1edaf_row10_col4, #T_1edaf_row10_col5, #T_1edaf_row10_col6, #T_1edaf_row11_col0, #T_1edaf_row11_col1, #T_1edaf_row11_col2, #T_1edaf_row11_col3, #T_1edaf_row11_col4, #T_1edaf_row11_col5, #T_1edaf_row11_col6, #T_1edaf_row12_col0, #T_1edaf_row12_col1, #T_1edaf_row12_col2, #T_1edaf_row12_col3, #T_1edaf_row12_col4, #T_1edaf_row12_col5, #T_1edaf_row12_col6, #T_1edaf_row13_col0, #T_1edaf_row13_col1, #T_1edaf_row13_col2, #T_1edaf_row13_col3, #T_1edaf_row13_col4, #T_1edaf_row13_col5, #T_1edaf_row13_col6, #T_1edaf_row14_col0, #T_1edaf_row14_col1, #T_1edaf_row14_col2, #T_1edaf_row14_col3, #T_1edaf_row14_col4, #T_1edaf_row14_col5, #T_1edaf_row14_col6, #T_1edaf_row15_col0, #T_1edaf_row15_col1, #T_1edaf_row15_col2, #T_1edaf_row15_col3, #T_1edaf_row15_col4, #T_1edaf_row15_col5, #T_1edaf_row15_col6, #T_1edaf_row16_col0, #T_1edaf_row16_col1, #T_1edaf_row16_col2, #T_1edaf_row16_col3, #T_1edaf_row16_col4, #T_1edaf_row16_col5, #T_1edaf_row16_col6, #T_1edaf_row17_col0, #T_1edaf_row17_col1, #T_1edaf_row17_col2, #T_1edaf_row17_col3, #T_1edaf_row17_col4, #T_1edaf_row17_col5, #T_1edaf_row17_col6 {\n",
       "  text-align: left;\n",
       "}\n",
       "#T_1edaf_row0_col2, #T_1edaf_row0_col3, #T_1edaf_row0_col4, #T_1edaf_row0_col5, #T_1edaf_row1_col1, #T_1edaf_row1_col6 {\n",
       "  text-align: left;\n",
       "  background-color: yellow;\n",
       "}\n",
       "#T_1edaf_row0_col7, #T_1edaf_row1_col7, #T_1edaf_row2_col7, #T_1edaf_row3_col7, #T_1edaf_row4_col7, #T_1edaf_row5_col7, #T_1edaf_row6_col7, #T_1edaf_row7_col7, #T_1edaf_row8_col7, #T_1edaf_row9_col7, #T_1edaf_row10_col7, #T_1edaf_row11_col7, #T_1edaf_row12_col7, #T_1edaf_row13_col7, #T_1edaf_row14_col7, #T_1edaf_row15_col7, #T_1edaf_row17_col7 {\n",
       "  text-align: left;\n",
       "  background-color: lightgrey;\n",
       "}\n",
       "#T_1edaf_row16_col7 {\n",
       "  text-align: left;\n",
       "  background-color: yellow;\n",
       "  background-color: lightgrey;\n",
       "}\n",
       "</style>\n",
       "<table id=\"T_1edaf\">\n",
       "  <thead>\n",
       "    <tr>\n",
       "      <th class=\"blank level0\" >&nbsp;</th>\n",
       "      <th id=\"T_1edaf_level0_col0\" class=\"col_heading level0 col0\" >Model</th>\n",
       "      <th id=\"T_1edaf_level0_col1\" class=\"col_heading level0 col1\" >MAE</th>\n",
       "      <th id=\"T_1edaf_level0_col2\" class=\"col_heading level0 col2\" >MSE</th>\n",
       "      <th id=\"T_1edaf_level0_col3\" class=\"col_heading level0 col3\" >RMSE</th>\n",
       "      <th id=\"T_1edaf_level0_col4\" class=\"col_heading level0 col4\" >R2</th>\n",
       "      <th id=\"T_1edaf_level0_col5\" class=\"col_heading level0 col5\" >RMSLE</th>\n",
       "      <th id=\"T_1edaf_level0_col6\" class=\"col_heading level0 col6\" >MAPE</th>\n",
       "      <th id=\"T_1edaf_level0_col7\" class=\"col_heading level0 col7\" >TT (Sec)</th>\n",
       "    </tr>\n",
       "  </thead>\n",
       "  <tbody>\n",
       "    <tr>\n",
       "      <th id=\"T_1edaf_level0_row0\" class=\"row_heading level0 row0\" >br</th>\n",
       "      <td id=\"T_1edaf_row0_col0\" class=\"data row0 col0\" >Bayesian Ridge</td>\n",
       "      <td id=\"T_1edaf_row0_col1\" class=\"data row0 col1\" >0.0882</td>\n",
       "      <td id=\"T_1edaf_row0_col2\" class=\"data row0 col2\" >0.0170</td>\n",
       "      <td id=\"T_1edaf_row0_col3\" class=\"data row0 col3\" >0.1287</td>\n",
       "      <td id=\"T_1edaf_row0_col4\" class=\"data row0 col4\" >0.8944</td>\n",
       "      <td id=\"T_1edaf_row0_col5\" class=\"data row0 col5\" >0.0100</td>\n",
       "      <td id=\"T_1edaf_row0_col6\" class=\"data row0 col6\" >0.0074</td>\n",
       "      <td id=\"T_1edaf_row0_col7\" class=\"data row0 col7\" >0.1470</td>\n",
       "    </tr>\n",
       "    <tr>\n",
       "      <th id=\"T_1edaf_level0_row1\" class=\"row_heading level0 row1\" >omp</th>\n",
       "      <td id=\"T_1edaf_row1_col0\" class=\"data row1 col0\" >Orthogonal Matching Pursuit</td>\n",
       "      <td id=\"T_1edaf_row1_col1\" class=\"data row1 col1\" >0.0866</td>\n",
       "      <td id=\"T_1edaf_row1_col2\" class=\"data row1 col2\" >0.0176</td>\n",
       "      <td id=\"T_1edaf_row1_col3\" class=\"data row1 col3\" >0.1303</td>\n",
       "      <td id=\"T_1edaf_row1_col4\" class=\"data row1 col4\" >0.8905</td>\n",
       "      <td id=\"T_1edaf_row1_col5\" class=\"data row1 col5\" >0.0101</td>\n",
       "      <td id=\"T_1edaf_row1_col6\" class=\"data row1 col6\" >0.0072</td>\n",
       "      <td id=\"T_1edaf_row1_col7\" class=\"data row1 col7\" >0.1710</td>\n",
       "    </tr>\n",
       "    <tr>\n",
       "      <th id=\"T_1edaf_level0_row2\" class=\"row_heading level0 row2\" >gbr</th>\n",
       "      <td id=\"T_1edaf_row2_col0\" class=\"data row2 col0\" >Gradient Boosting Regressor</td>\n",
       "      <td id=\"T_1edaf_row2_col1\" class=\"data row2 col1\" >0.0927</td>\n",
       "      <td id=\"T_1edaf_row2_col2\" class=\"data row2 col2\" >0.0193</td>\n",
       "      <td id=\"T_1edaf_row2_col3\" class=\"data row2 col3\" >0.1373</td>\n",
       "      <td id=\"T_1edaf_row2_col4\" class=\"data row2 col4\" >0.8829</td>\n",
       "      <td id=\"T_1edaf_row2_col5\" class=\"data row2 col5\" >0.0106</td>\n",
       "      <td id=\"T_1edaf_row2_col6\" class=\"data row2 col6\" >0.0078</td>\n",
       "      <td id=\"T_1edaf_row2_col7\" class=\"data row2 col7\" >0.4900</td>\n",
       "    </tr>\n",
       "    <tr>\n",
       "      <th id=\"T_1edaf_level0_row3\" class=\"row_heading level0 row3\" >lightgbm</th>\n",
       "      <td id=\"T_1edaf_row3_col0\" class=\"data row3 col0\" >Light Gradient Boosting Machine</td>\n",
       "      <td id=\"T_1edaf_row3_col1\" class=\"data row3 col1\" >0.0944</td>\n",
       "      <td id=\"T_1edaf_row3_col2\" class=\"data row3 col2\" >0.0194</td>\n",
       "      <td id=\"T_1edaf_row3_col3\" class=\"data row3 col3\" >0.1383</td>\n",
       "      <td id=\"T_1edaf_row3_col4\" class=\"data row3 col4\" >0.8822</td>\n",
       "      <td id=\"T_1edaf_row3_col5\" class=\"data row3 col5\" >0.0107</td>\n",
       "      <td id=\"T_1edaf_row3_col6\" class=\"data row3 col6\" >0.0079</td>\n",
       "      <td id=\"T_1edaf_row3_col7\" class=\"data row3 col7\" >0.4990</td>\n",
       "    </tr>\n",
       "    <tr>\n",
       "      <th id=\"T_1edaf_level0_row4\" class=\"row_heading level0 row4\" >ridge</th>\n",
       "      <td id=\"T_1edaf_row4_col0\" class=\"data row4 col0\" >Ridge Regression</td>\n",
       "      <td id=\"T_1edaf_row4_col1\" class=\"data row4 col1\" >0.0927</td>\n",
       "      <td id=\"T_1edaf_row4_col2\" class=\"data row4 col2\" >0.0190</td>\n",
       "      <td id=\"T_1edaf_row4_col3\" class=\"data row4 col3\" >0.1364</td>\n",
       "      <td id=\"T_1edaf_row4_col4\" class=\"data row4 col4\" >0.8812</td>\n",
       "      <td id=\"T_1edaf_row4_col5\" class=\"data row4 col5\" >0.0106</td>\n",
       "      <td id=\"T_1edaf_row4_col6\" class=\"data row4 col6\" >0.0078</td>\n",
       "      <td id=\"T_1edaf_row4_col7\" class=\"data row4 col7\" >0.1420</td>\n",
       "    </tr>\n",
       "    <tr>\n",
       "      <th id=\"T_1edaf_level0_row5\" class=\"row_heading level0 row5\" >et</th>\n",
       "      <td id=\"T_1edaf_row5_col0\" class=\"data row5 col0\" >Extra Trees Regressor</td>\n",
       "      <td id=\"T_1edaf_row5_col1\" class=\"data row5 col1\" >0.0996</td>\n",
       "      <td id=\"T_1edaf_row5_col2\" class=\"data row5 col2\" >0.0218</td>\n",
       "      <td id=\"T_1edaf_row5_col3\" class=\"data row5 col3\" >0.1464</td>\n",
       "      <td id=\"T_1edaf_row5_col4\" class=\"data row5 col4\" >0.8685</td>\n",
       "      <td id=\"T_1edaf_row5_col5\" class=\"data row5 col5\" >0.0113</td>\n",
       "      <td id=\"T_1edaf_row5_col6\" class=\"data row5 col6\" >0.0083</td>\n",
       "      <td id=\"T_1edaf_row5_col7\" class=\"data row5 col7\" >0.9100</td>\n",
       "    </tr>\n",
       "    <tr>\n",
       "      <th id=\"T_1edaf_level0_row6\" class=\"row_heading level0 row6\" >rf</th>\n",
       "      <td id=\"T_1edaf_row6_col0\" class=\"data row6 col0\" >Random Forest Regressor</td>\n",
       "      <td id=\"T_1edaf_row6_col1\" class=\"data row6 col1\" >0.1010</td>\n",
       "      <td id=\"T_1edaf_row6_col2\" class=\"data row6 col2\" >0.0225</td>\n",
       "      <td id=\"T_1edaf_row6_col3\" class=\"data row6 col3\" >0.1486</td>\n",
       "      <td id=\"T_1edaf_row6_col4\" class=\"data row6 col4\" >0.8650</td>\n",
       "      <td id=\"T_1edaf_row6_col5\" class=\"data row6 col5\" >0.0115</td>\n",
       "      <td id=\"T_1edaf_row6_col6\" class=\"data row6 col6\" >0.0085</td>\n",
       "      <td id=\"T_1edaf_row6_col7\" class=\"data row6 col7\" >1.0040</td>\n",
       "    </tr>\n",
       "    <tr>\n",
       "      <th id=\"T_1edaf_level0_row7\" class=\"row_heading level0 row7\" >xgboost</th>\n",
       "      <td id=\"T_1edaf_row7_col0\" class=\"data row7 col0\" >Extreme Gradient Boosting</td>\n",
       "      <td id=\"T_1edaf_row7_col1\" class=\"data row7 col1\" >0.1036</td>\n",
       "      <td id=\"T_1edaf_row7_col2\" class=\"data row7 col2\" >0.0225</td>\n",
       "      <td id=\"T_1edaf_row7_col3\" class=\"data row7 col3\" >0.1484</td>\n",
       "      <td id=\"T_1edaf_row7_col4\" class=\"data row7 col4\" >0.8631</td>\n",
       "      <td id=\"T_1edaf_row7_col5\" class=\"data row7 col5\" >0.0115</td>\n",
       "      <td id=\"T_1edaf_row7_col6\" class=\"data row7 col6\" >0.0087</td>\n",
       "      <td id=\"T_1edaf_row7_col7\" class=\"data row7 col7\" >0.7200</td>\n",
       "    </tr>\n",
       "    <tr>\n",
       "      <th id=\"T_1edaf_level0_row8\" class=\"row_heading level0 row8\" >ada</th>\n",
       "      <td id=\"T_1edaf_row8_col0\" class=\"data row8 col0\" >AdaBoost Regressor</td>\n",
       "      <td id=\"T_1edaf_row8_col1\" class=\"data row8 col1\" >0.1329</td>\n",
       "      <td id=\"T_1edaf_row8_col2\" class=\"data row8 col2\" >0.0323</td>\n",
       "      <td id=\"T_1edaf_row8_col3\" class=\"data row8 col3\" >0.1789</td>\n",
       "      <td id=\"T_1edaf_row8_col4\" class=\"data row8 col4\" >0.8036</td>\n",
       "      <td id=\"T_1edaf_row8_col5\" class=\"data row8 col5\" >0.0139</td>\n",
       "      <td id=\"T_1edaf_row8_col6\" class=\"data row8 col6\" >0.0111</td>\n",
       "      <td id=\"T_1edaf_row8_col7\" class=\"data row8 col7\" >0.3370</td>\n",
       "    </tr>\n",
       "    <tr>\n",
       "      <th id=\"T_1edaf_level0_row9\" class=\"row_heading level0 row9\" >knn</th>\n",
       "      <td id=\"T_1edaf_row9_col0\" class=\"data row9 col0\" >K Neighbors Regressor</td>\n",
       "      <td id=\"T_1edaf_row9_col1\" class=\"data row9 col1\" >0.1471</td>\n",
       "      <td id=\"T_1edaf_row9_col2\" class=\"data row9 col2\" >0.0425</td>\n",
       "      <td id=\"T_1edaf_row9_col3\" class=\"data row9 col3\" >0.2051</td>\n",
       "      <td id=\"T_1edaf_row9_col4\" class=\"data row9 col4\" >0.7414</td>\n",
       "      <td id=\"T_1edaf_row9_col5\" class=\"data row9 col5\" >0.0159</td>\n",
       "      <td id=\"T_1edaf_row9_col6\" class=\"data row9 col6\" >0.0123</td>\n",
       "      <td id=\"T_1edaf_row9_col7\" class=\"data row9 col7\" >0.1960</td>\n",
       "    </tr>\n",
       "    <tr>\n",
       "      <th id=\"T_1edaf_level0_row10\" class=\"row_heading level0 row10\" >dt</th>\n",
       "      <td id=\"T_1edaf_row10_col0\" class=\"data row10 col0\" >Decision Tree Regressor</td>\n",
       "      <td id=\"T_1edaf_row10_col1\" class=\"data row10 col1\" >0.1573</td>\n",
       "      <td id=\"T_1edaf_row10_col2\" class=\"data row10 col2\" >0.0503</td>\n",
       "      <td id=\"T_1edaf_row10_col3\" class=\"data row10 col3\" >0.2231</td>\n",
       "      <td id=\"T_1edaf_row10_col4\" class=\"data row10 col4\" >0.6926</td>\n",
       "      <td id=\"T_1edaf_row10_col5\" class=\"data row10 col5\" >0.0173</td>\n",
       "      <td id=\"T_1edaf_row10_col6\" class=\"data row10 col6\" >0.0131</td>\n",
       "      <td id=\"T_1edaf_row10_col7\" class=\"data row10 col7\" >0.1770</td>\n",
       "    </tr>\n",
       "    <tr>\n",
       "      <th id=\"T_1edaf_level0_row11\" class=\"row_heading level0 row11\" >lasso</th>\n",
       "      <td id=\"T_1edaf_row11_col0\" class=\"data row11 col0\" >Lasso Regression</td>\n",
       "      <td id=\"T_1edaf_row11_col1\" class=\"data row11 col1\" >0.3140</td>\n",
       "      <td id=\"T_1edaf_row11_col2\" class=\"data row11 col2\" >0.1675</td>\n",
       "      <td id=\"T_1edaf_row11_col3\" class=\"data row11 col3\" >0.4074</td>\n",
       "      <td id=\"T_1edaf_row11_col4\" class=\"data row11 col4\" >-0.0088</td>\n",
       "      <td id=\"T_1edaf_row11_col5\" class=\"data row11 col5\" >0.0313</td>\n",
       "      <td id=\"T_1edaf_row11_col6\" class=\"data row11 col6\" >0.0261</td>\n",
       "      <td id=\"T_1edaf_row11_col7\" class=\"data row11 col7\" >0.1660</td>\n",
       "    </tr>\n",
       "    <tr>\n",
       "      <th id=\"T_1edaf_level0_row12\" class=\"row_heading level0 row12\" >en</th>\n",
       "      <td id=\"T_1edaf_row12_col0\" class=\"data row12 col0\" >Elastic Net</td>\n",
       "      <td id=\"T_1edaf_row12_col1\" class=\"data row12 col1\" >0.3140</td>\n",
       "      <td id=\"T_1edaf_row12_col2\" class=\"data row12 col2\" >0.1675</td>\n",
       "      <td id=\"T_1edaf_row12_col3\" class=\"data row12 col3\" >0.4074</td>\n",
       "      <td id=\"T_1edaf_row12_col4\" class=\"data row12 col4\" >-0.0088</td>\n",
       "      <td id=\"T_1edaf_row12_col5\" class=\"data row12 col5\" >0.0313</td>\n",
       "      <td id=\"T_1edaf_row12_col6\" class=\"data row12 col6\" >0.0261</td>\n",
       "      <td id=\"T_1edaf_row12_col7\" class=\"data row12 col7\" >0.1370</td>\n",
       "    </tr>\n",
       "    <tr>\n",
       "      <th id=\"T_1edaf_level0_row13\" class=\"row_heading level0 row13\" >llar</th>\n",
       "      <td id=\"T_1edaf_row13_col0\" class=\"data row13 col0\" >Lasso Least Angle Regression</td>\n",
       "      <td id=\"T_1edaf_row13_col1\" class=\"data row13 col1\" >0.3140</td>\n",
       "      <td id=\"T_1edaf_row13_col2\" class=\"data row13 col2\" >0.1675</td>\n",
       "      <td id=\"T_1edaf_row13_col3\" class=\"data row13 col3\" >0.4074</td>\n",
       "      <td id=\"T_1edaf_row13_col4\" class=\"data row13 col4\" >-0.0088</td>\n",
       "      <td id=\"T_1edaf_row13_col5\" class=\"data row13 col5\" >0.0313</td>\n",
       "      <td id=\"T_1edaf_row13_col6\" class=\"data row13 col6\" >0.0261</td>\n",
       "      <td id=\"T_1edaf_row13_col7\" class=\"data row13 col7\" >0.1740</td>\n",
       "    </tr>\n",
       "    <tr>\n",
       "      <th id=\"T_1edaf_level0_row14\" class=\"row_heading level0 row14\" >dummy</th>\n",
       "      <td id=\"T_1edaf_row14_col0\" class=\"data row14 col0\" >Dummy Regressor</td>\n",
       "      <td id=\"T_1edaf_row14_col1\" class=\"data row14 col1\" >0.3140</td>\n",
       "      <td id=\"T_1edaf_row14_col2\" class=\"data row14 col2\" >0.1675</td>\n",
       "      <td id=\"T_1edaf_row14_col3\" class=\"data row14 col3\" >0.4074</td>\n",
       "      <td id=\"T_1edaf_row14_col4\" class=\"data row14 col4\" >-0.0088</td>\n",
       "      <td id=\"T_1edaf_row14_col5\" class=\"data row14 col5\" >0.0313</td>\n",
       "      <td id=\"T_1edaf_row14_col6\" class=\"data row14 col6\" >0.0261</td>\n",
       "      <td id=\"T_1edaf_row14_col7\" class=\"data row14 col7\" >0.1940</td>\n",
       "    </tr>\n",
       "    <tr>\n",
       "      <th id=\"T_1edaf_level0_row15\" class=\"row_heading level0 row15\" >huber</th>\n",
       "      <td id=\"T_1edaf_row15_col0\" class=\"data row15 col0\" >Huber Regressor</td>\n",
       "      <td id=\"T_1edaf_row15_col1\" class=\"data row15 col1\" >0.2620</td>\n",
       "      <td id=\"T_1edaf_row15_col2\" class=\"data row15 col2\" >1.4457</td>\n",
       "      <td id=\"T_1edaf_row15_col3\" class=\"data row15 col3\" >1.0528</td>\n",
       "      <td id=\"T_1edaf_row15_col4\" class=\"data row15 col4\" >-7.0582</td>\n",
       "      <td id=\"T_1edaf_row15_col5\" class=\"data row15 col5\" >0.1439</td>\n",
       "      <td id=\"T_1edaf_row15_col6\" class=\"data row15 col6\" >0.0219</td>\n",
       "      <td id=\"T_1edaf_row15_col7\" class=\"data row15 col7\" >0.3630</td>\n",
       "    </tr>\n",
       "    <tr>\n",
       "      <th id=\"T_1edaf_level0_row16\" class=\"row_heading level0 row16\" >par</th>\n",
       "      <td id=\"T_1edaf_row16_col0\" class=\"data row16 col0\" >Passive Aggressive Regressor</td>\n",
       "      <td id=\"T_1edaf_row16_col1\" class=\"data row16 col1\" >0.2879</td>\n",
       "      <td id=\"T_1edaf_row16_col2\" class=\"data row16 col2\" >1.4536</td>\n",
       "      <td id=\"T_1edaf_row16_col3\" class=\"data row16 col3\" >1.0604</td>\n",
       "      <td id=\"T_1edaf_row16_col4\" class=\"data row16 col4\" >-7.1002</td>\n",
       "      <td id=\"T_1edaf_row16_col5\" class=\"data row16 col5\" >0.1411</td>\n",
       "      <td id=\"T_1edaf_row16_col6\" class=\"data row16 col6\" >0.0241</td>\n",
       "      <td id=\"T_1edaf_row16_col7\" class=\"data row16 col7\" >0.1360</td>\n",
       "    </tr>\n",
       "    <tr>\n",
       "      <th id=\"T_1edaf_level0_row17\" class=\"row_heading level0 row17\" >lr</th>\n",
       "      <td id=\"T_1edaf_row17_col0\" class=\"data row17 col0\" >Linear Regression</td>\n",
       "      <td id=\"T_1edaf_row17_col1\" class=\"data row17 col1\" >53.3776</td>\n",
       "      <td id=\"T_1edaf_row17_col2\" class=\"data row17 col2\" >399470.0875</td>\n",
       "      <td id=\"T_1edaf_row17_col3\" class=\"data row17 col3\" >407.3783</td>\n",
       "      <td id=\"T_1edaf_row17_col4\" class=\"data row17 col4\" >-2989144.7166</td>\n",
       "      <td id=\"T_1edaf_row17_col5\" class=\"data row17 col5\" >0.6269</td>\n",
       "      <td id=\"T_1edaf_row17_col6\" class=\"data row17 col6\" >4.5201</td>\n",
       "      <td id=\"T_1edaf_row17_col7\" class=\"data row17 col7\" >1.0140</td>\n",
       "    </tr>\n",
       "  </tbody>\n",
       "</table>\n"
      ],
      "text/plain": [
       "<pandas.io.formats.style.Styler at 0x2bf893d3cd0>"
      ]
     },
     "metadata": {},
     "output_type": "display_data"
    },
    {
     "data": {
      "text/html": [],
      "text/plain": [
       "<IPython.core.display.HTML object>"
      ]
     },
     "metadata": {},
     "output_type": "display_data"
    },
    {
     "data": {
      "text/html": [
       "<style>#sk-container-id-4 {color: black;background-color: white;}#sk-container-id-4 pre{padding: 0;}#sk-container-id-4 div.sk-toggleable {background-color: white;}#sk-container-id-4 label.sk-toggleable__label {cursor: pointer;display: block;width: 100%;margin-bottom: 0;padding: 0.3em;box-sizing: border-box;text-align: center;}#sk-container-id-4 label.sk-toggleable__label-arrow:before {content: \"▸\";float: left;margin-right: 0.25em;color: #696969;}#sk-container-id-4 label.sk-toggleable__label-arrow:hover:before {color: black;}#sk-container-id-4 div.sk-estimator:hover label.sk-toggleable__label-arrow:before {color: black;}#sk-container-id-4 div.sk-toggleable__content {max-height: 0;max-width: 0;overflow: hidden;text-align: left;background-color: #f0f8ff;}#sk-container-id-4 div.sk-toggleable__content pre {margin: 0.2em;color: black;border-radius: 0.25em;background-color: #f0f8ff;}#sk-container-id-4 input.sk-toggleable__control:checked~div.sk-toggleable__content {max-height: 200px;max-width: 100%;overflow: auto;}#sk-container-id-4 input.sk-toggleable__control:checked~label.sk-toggleable__label-arrow:before {content: \"▾\";}#sk-container-id-4 div.sk-estimator input.sk-toggleable__control:checked~label.sk-toggleable__label {background-color: #d4ebff;}#sk-container-id-4 div.sk-label input.sk-toggleable__control:checked~label.sk-toggleable__label {background-color: #d4ebff;}#sk-container-id-4 input.sk-hidden--visually {border: 0;clip: rect(1px 1px 1px 1px);clip: rect(1px, 1px, 1px, 1px);height: 1px;margin: -1px;overflow: hidden;padding: 0;position: absolute;width: 1px;}#sk-container-id-4 div.sk-estimator {font-family: monospace;background-color: #f0f8ff;border: 1px dotted black;border-radius: 0.25em;box-sizing: border-box;margin-bottom: 0.5em;}#sk-container-id-4 div.sk-estimator:hover {background-color: #d4ebff;}#sk-container-id-4 div.sk-parallel-item::after {content: \"\";width: 100%;border-bottom: 1px solid gray;flex-grow: 1;}#sk-container-id-4 div.sk-label:hover label.sk-toggleable__label {background-color: #d4ebff;}#sk-container-id-4 div.sk-serial::before {content: \"\";position: absolute;border-left: 1px solid gray;box-sizing: border-box;top: 0;bottom: 0;left: 50%;z-index: 0;}#sk-container-id-4 div.sk-serial {display: flex;flex-direction: column;align-items: center;background-color: white;padding-right: 0.2em;padding-left: 0.2em;position: relative;}#sk-container-id-4 div.sk-item {position: relative;z-index: 1;}#sk-container-id-4 div.sk-parallel {display: flex;align-items: stretch;justify-content: center;background-color: white;position: relative;}#sk-container-id-4 div.sk-item::before, #sk-container-id-4 div.sk-parallel-item::before {content: \"\";position: absolute;border-left: 1px solid gray;box-sizing: border-box;top: 0;bottom: 0;left: 50%;z-index: -1;}#sk-container-id-4 div.sk-parallel-item {display: flex;flex-direction: column;z-index: 1;position: relative;background-color: white;}#sk-container-id-4 div.sk-parallel-item:first-child::after {align-self: flex-end;width: 50%;}#sk-container-id-4 div.sk-parallel-item:last-child::after {align-self: flex-start;width: 50%;}#sk-container-id-4 div.sk-parallel-item:only-child::after {width: 0;}#sk-container-id-4 div.sk-dashed-wrapped {border: 1px dashed gray;margin: 0 0.4em 0.5em 0.4em;box-sizing: border-box;padding-bottom: 0.4em;background-color: white;}#sk-container-id-4 div.sk-label label {font-family: monospace;font-weight: bold;display: inline-block;line-height: 1.2em;}#sk-container-id-4 div.sk-label-container {text-align: center;}#sk-container-id-4 div.sk-container {/* jupyter's `normalize.less` sets `[hidden] { display: none; }` but bootstrap.min.css set `[hidden] { display: none !important; }` so we also need the `!important` here to be able to override the default hidden behavior on the sphinx rendered scikit-learn.org. See: https://github.com/scikit-learn/scikit-learn/issues/21755 */display: inline-block !important;position: relative;}#sk-container-id-4 div.sk-text-repr-fallback {display: none;}</style><div id=\"sk-container-id-4\" class=\"sk-top-container\"><div class=\"sk-text-repr-fallback\"><pre>BayesianRidge()</pre><b>In a Jupyter environment, please rerun this cell to show the HTML representation or trust the notebook. <br />On GitHub, the HTML representation is unable to render, please try loading this page with nbviewer.org.</b></div><div class=\"sk-container\" hidden><div class=\"sk-item\"><div class=\"sk-estimator sk-toggleable\"><input class=\"sk-toggleable__control sk-hidden--visually\" id=\"sk-estimator-id-4\" type=\"checkbox\" checked><label for=\"sk-estimator-id-4\" class=\"sk-toggleable__label sk-toggleable__label-arrow\">BayesianRidge</label><div class=\"sk-toggleable__content\"><pre>BayesianRidge()</pre></div></div></div></div></div>"
      ],
      "text/plain": [
       "BayesianRidge()"
      ]
     },
     "execution_count": 142,
     "metadata": {},
     "output_type": "execute_result"
    }
   ],
   "source": [
    "compare_models()"
   ]
  },
  {
   "cell_type": "code",
   "execution_count": 143,
   "metadata": {},
   "outputs": [],
   "source": [
    "#training our baseline model with GradientBoostingRegressor\n",
    "baseline_model = GradientBoostingRegressor()\n",
    "baseline_model.fit(train_data1, log_target)\n",
    "\n",
    "#evaluate our model\n",
    "kf = KFold(n_splits = 10)\n",
    "results = cross_val_score(baseline_model, train_data1, log_target, scoring='neg_mean_squared_error', cv=kf)"
   ]
  },
  {
   "cell_type": "code",
   "execution_count": 144,
   "metadata": {},
   "outputs": [
    {
     "data": {
      "text/plain": [
       "1.1359430161793942"
      ]
     },
     "execution_count": 144,
     "metadata": {},
     "output_type": "execute_result"
    }
   ],
   "source": [
    "np.exp(np.sqrt(np.mean(-results))) #error in salePrice original unit"
   ]
  },
  {
   "cell_type": "markdown",
   "metadata": {},
   "source": [
    "#### 4. First Submission ####"
   ]
  },
  {
   "cell_type": "code",
   "execution_count": 145,
   "metadata": {},
   "outputs": [],
   "source": [
    "baseline_model_pred = baseline_model.predict(test_data1)\n",
    "sub1 = make_submission(baseline_model_pred).reset_index(drop=True)\n",
    "sub1.to_csv(\"submission1.csv\", index=False, header=True)\n",
    "\n",
    "#score: 0.13773, position: 1330\n"
   ]
  },
  {
   "cell_type": "markdown",
   "metadata": {},
   "source": [
    "#### 5. Ensemble ####"
   ]
  },
  {
   "cell_type": "code",
   "execution_count": 146,
   "metadata": {},
   "outputs": [
    {
     "name": "stdout",
     "output_type": "stream",
     "text": [
      "GradientBoostingRegressor trained\n",
      "BayesianRidge trained\n",
      "Ridge trained\n",
      "Omp trained\n",
      "RandomForestRegressor trained\n"
     ]
    }
   ],
   "source": [
    "models = {\"GradientBoostingRegressor\": GradientBoostingRegressor(),\n",
    "          \"BayesianRidge\" : BayesianRidge(),\n",
    "          \"Ridge\": Ridge(),\n",
    "          \"Omp\": OrthogonalMatchingPursuit(),\n",
    "          \"RandomForestRegressor\": RandomForestRegressor()  #low weight\n",
    "          \n",
    "}\n",
    "\n",
    "for name, model in models.items():\n",
    "    print(\"{} trained\".format(name))\n",
    "    model.fit(train_data1, log_target)"
   ]
  },
  {
   "cell_type": "code",
   "execution_count": 147,
   "metadata": {},
   "outputs": [
    {
     "data": {
      "text/plain": [
       "{'GradientBoostingRegressor': array([1.1384193 , 1.10804227, 1.11942164, 1.16958313, 1.16735953,\n",
       "        1.11316725, 1.13928862, 1.1149197 , 1.12366363, 1.14657752]),\n",
       " 'BayesianRidge': array([1.12260078, 1.10928758, 1.12195311, 1.17317395, 1.1523188 ,\n",
       "        1.14416651, 1.12700644, 1.1011015 , 1.21373819, 1.13649138]),\n",
       " 'Ridge': array([1.12860812, 1.11125049, 1.1225425 , 1.17621186, 1.16011636,\n",
       "        1.16372154, 1.13165443, 1.10125748, 1.22720383, 1.1362898 ]),\n",
       " 'Omp': array([1.12370536, 1.09810343, 1.11350372, 1.18198409, 1.15966074,\n",
       "        1.16160327, 1.12650439, 1.1080629 , 1.20368954, 1.12816528]),\n",
       " 'RandomForestRegressor': array([1.15818696, 1.12711717, 1.14348159, 1.18375841, 1.18276353,\n",
       "        1.11819207, 1.14555219, 1.12481047, 1.15272975, 1.16614483])}"
      ]
     },
     "execution_count": 147,
     "metadata": {},
     "output_type": "execute_result"
    }
   ],
   "source": [
    "results = {}\n",
    "\n",
    "for name, model in models.items():\n",
    "    result = np.exp(np.sqrt(-cross_val_score(model, train_data1, log_target, scoring='neg_mean_squared_error', cv=kf)))\n",
    "    results[name] = result\n",
    "\n",
    "results"
   ]
  },
  {
   "cell_type": "code",
   "execution_count": 148,
   "metadata": {},
   "outputs": [
    {
     "name": "stdout",
     "output_type": "stream",
     "text": [
      "Model: GradientBoostingRegressor (std: 1.1340442598105727, mean: 0.020918713388149077)\n",
      "Model: BayesianRidge (std: 1.1401838234572519, mean: 0.03157929427085268)\n",
      "Model: Ridge (std: 1.145885640798918, mean: 0.03518841956331649)\n",
      "Model: Omp (std: 1.1404982732751938, mean: 0.032764073389639124)\n",
      "Model: RandomForestRegressor (std: 1.1502736960458884, mean: 0.021862335049590197)\n"
     ]
    }
   ],
   "source": [
    "for name, result in results.items():\n",
    "    print(\"Model: {} (std: {}, mean: {})\".format(name, np.mean(result), np.std(result)))"
   ]
  },
  {
   "cell_type": "markdown",
   "metadata": {},
   "source": [
    "#### 6. Second Submission ####"
   ]
  },
  {
   "cell_type": "code",
   "execution_count": 149,
   "metadata": {},
   "outputs": [],
   "source": [
    "prediction = (\n",
    "    0.2 * models['GradientBoostingRegressor'].predict(test_data1) +\n",
    "    0.2 * models['BayesianRidge'].predict(test_data1) +\n",
    "    0.2 * models['Ridge'].predict(test_data1) +\n",
    "    0.2 * models['Omp'].predict(test_data1) +\n",
    "    0.2 * models['RandomForestRegressor'].predict(test_data1) \n",
    "              )\n",
    "\n",
    "sub2 = make_submission(prediction).reset_index(drop=True)\n",
    "sub2.to_csv(\"submission2.csv\", index=False, header=True)   \n",
    "\n",
    "#score: 0.12672, position: 645\n"
   ]
  },
  {
   "cell_type": "markdown",
   "metadata": {},
   "source": [
    "#### 7. Third Submission ####"
   ]
  },
  {
   "cell_type": "code",
   "execution_count": 150,
   "metadata": {},
   "outputs": [],
   "source": [
    "#changing weights of models prediction\n",
    "prediction = (\n",
    "    0.4 * models['GradientBoostingRegressor'].predict(test_data1) +\n",
    "    0.2 * models['BayesianRidge'].predict(test_data1) +\n",
    "    0.2 * models['Ridge'].predict(test_data1) +\n",
    "    0.1 * models['Omp'].predict(test_data1) +\n",
    "    0.1 * models['RandomForestRegressor'].predict(test_data1) \n",
    "              )\n",
    "\n",
    "sub3 = make_submission(prediction).reset_index(drop=True)\n",
    "sub3.to_csv(\"submission3.csv\", index=False, header=True)   \n",
    "\n",
    "#score: 0.12712 -> worst score\n"
   ]
  },
  {
   "cell_type": "markdown",
   "metadata": {},
   "source": [
    "#### 8. Feature Engineering ####"
   ]
  },
  {
   "cell_type": "code",
   "execution_count": 151,
   "metadata": {},
   "outputs": [],
   "source": [
    "data4 = data3.copy()\n",
    "\n",
    "#creating new features\n",
    "data4[\"SqFtPerRoom\"] = data4[\"GrLivArea\"] / (data4[\"TotRmsAbvGrd\"] +\n",
    "                                                       data4[\"FullBath\"] +\n",
    "                                                       data4[\"HalfBath\"] +\n",
    "                                                       data4[\"KitchenAbvGr\"])\n",
    "\n",
    "data4['Total_Home_Quality'] = data4['OverallQual'] + data4['OverallCond']\n",
    "\n",
    "data4['Total_Bathrooms'] = (data4['FullBath'] + (0.5 * data4['HalfBath']) +\n",
    "                               data4['BsmtFullBath'] + (0.5 * data4['BsmtHalfBath']))\n",
    "\n",
    "data4[\"HighQualSF\"] = data4[\"1stFlrSF\"] + data4[\"2ndFlrSF\"]"
   ]
  },
  {
   "cell_type": "code",
   "execution_count": 152,
   "metadata": {},
   "outputs": [
    {
     "name": "stdout",
     "output_type": "stream",
     "text": [
      "GradientBoostingRegressor trained\n",
      "BayesianRidge trained\n",
      "Ridge trained\n",
      "Omp trained\n",
      "RandomForestRegressor trained\n"
     ]
    }
   ],
   "source": [
    "train_data2= data4[data3['train_set'] > 0] \n",
    "test_data2 = data4[data3['train_set'] < 0]\n",
    "\n",
    "#training models with our new data\n",
    "models = {\"GradientBoostingRegressor\": GradientBoostingRegressor(),\n",
    "          \"BayesianRidge\" : BayesianRidge(),\n",
    "          \"Ridge\": Ridge(),\n",
    "          \"Omp\": OrthogonalMatchingPursuit(),\n",
    "          \"RandomForestRegressor\": RandomForestRegressor()  #low weight\n",
    "          \n",
    "}\n",
    "\n",
    "for name, model in models.items():\n",
    "    print(\"{} trained\".format(name))\n",
    "    model.fit(train_data2, log_target)\n",
    "\n",
    "#getting results for our models with our new data\n",
    "results = {}\n",
    "\n",
    "for name, model in models.items():\n",
    "    result = np.exp(np.sqrt(-cross_val_score(model, train_data2, log_target, scoring='neg_mean_squared_error', cv=kf)))\n",
    "    results[name] = result\n",
    "\n"
   ]
  },
  {
   "cell_type": "markdown",
   "metadata": {},
   "source": [
    "#### 9. Forth Submission ####"
   ]
  },
  {
   "cell_type": "code",
   "execution_count": 153,
   "metadata": {},
   "outputs": [],
   "source": [
    "prediction = (\n",
    "    0.2 * models['GradientBoostingRegressor'].predict(test_data2) +\n",
    "    0.2 * models['BayesianRidge'].predict(test_data2) +\n",
    "    0.2 * models['Ridge'].predict(test_data2) +\n",
    "    0.2 * models['Omp'].predict(test_data2) +\n",
    "    0.2 * models['RandomForestRegressor'].predict(test_data2) \n",
    "              )\n",
    "\n",
    "sub4 = make_submission(prediction).reset_index(drop=True)\n",
    "sub4.to_csv(\"submission4.csv\", index=False, header=True)   \n",
    "\n",
    "#score: 0.12635, final position: 627/ 4202"
   ]
  },
  {
   "cell_type": "code",
   "execution_count": null,
   "metadata": {},
   "outputs": [],
   "source": []
  }
 ],
 "metadata": {
  "kernelspec": {
   "display_name": "Python 3",
   "language": "python",
   "name": "python3"
  },
  "language_info": {
   "codemirror_mode": {
    "name": "ipython",
    "version": 3
   },
   "file_extension": ".py",
   "mimetype": "text/x-python",
   "name": "python",
   "nbconvert_exporter": "python",
   "pygments_lexer": "ipython3",
   "version": "3.10.11"
  },
  "orig_nbformat": 4
 },
 "nbformat": 4,
 "nbformat_minor": 2
}
